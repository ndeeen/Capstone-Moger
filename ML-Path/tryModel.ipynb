{
 "cells": [
  {
   "cell_type": "code",
   "execution_count": 10,
   "metadata": {},
   "outputs": [],
   "source": [
    "import tensorflow as tf\n",
    "from tensorflow import keras\n",
    "from keras import layers\n",
    "import cv2\n",
    "import os\n",
    "import numpy as np"
   ]
  },
  {
   "attachments": {},
   "cell_type": "markdown",
   "metadata": {},
   "source": [
    "Preprocess Image"
   ]
  },
  {
   "cell_type": "code",
   "execution_count": 15,
   "metadata": {},
   "outputs": [],
   "source": [
    "def noiseRemoval(image):\n",
    "    kernel = np.ones((1, 1), np.uint8)\n",
    "    image = cv2.dilate(image, kernel, iterations=1)\n",
    "    kernel = np.ones((1, 1), np.uint8)\n",
    "    image = cv2.erode(image, kernel, iterations=1)\n",
    "    image - cv2.morphologyEx(image, cv2.MORPH_OPEN, kernel)\n",
    "    image = cv2.medianBlur(image, 3)\n",
    "    return image"
   ]
  },
  {
   "cell_type": "code",
   "execution_count": 16,
   "metadata": {},
   "outputs": [],
   "source": [
    "# Specify the desired image dimensions\n",
    "image_height = 500\n",
    "image_width = 500\n",
    "\n",
    "# Path to the dataset directory containing receipt images\n",
    "dataset_path = \"Data\"\n",
    "\n",
    "# Path to store preprocessed images\n",
    "processed_path = \"Temp\"\n",
    "\n",
    "# Ensure the preprocessed directory exists\n",
    "os.makedirs(processed_path, exist_ok=True)\n",
    "\n",
    "# Preprocess the dataset\n",
    "# Loop through each image in the dataset\n",
    "for filename in os.listdir(dataset_path):\n",
    "    # Load the image\n",
    "    image_path = os.path.join(dataset_path, filename)\n",
    "    image = cv2.imread(image_path)\n",
    "    \n",
    "    # Invert the image\n",
    "    inverted_image = cv2.bitwise_not(image)\n",
    "    \n",
    "    # Rescale the image (optional)\n",
    "    rescaled_image = cv2.resize(inverted_image, None, fx=2, fy=2, interpolation=cv2.INTER_CUBIC)\n",
    "    \n",
    "    # Convert to grayscale\n",
    "    grayscale_image = cv2.cvtColor(rescaled_image, cv2.COLOR_BGR2GRAY)\n",
    "    \n",
    "    # Binarization\n",
    "    thresholdImage, binary_image = cv2.threshold(grayscale_image, 127, 255, cv2.THRESH_BINARY)\n",
    "    \n",
    "    # Noise removal (optional)\n",
    "    denoised_image = noiseRemoval(binary_image)\n",
    "    \n",
    "    # Save the preprocessed image\n",
    "    preprocessed_image_path = os.path.join(processed_path, filename)\n",
    "    cv2.imwrite(preprocessed_image_path, denoised_image)"
   ]
  },
  {
   "cell_type": "code",
   "execution_count": null,
   "metadata": {},
   "outputs": [],
   "source": []
  }
 ],
 "metadata": {
  "kernelspec": {
   "display_name": "Python 3",
   "language": "python",
   "name": "python3"
  },
  "language_info": {
   "codemirror_mode": {
    "name": "ipython",
    "version": 3
   },
   "file_extension": ".py",
   "mimetype": "text/x-python",
   "name": "python",
   "nbconvert_exporter": "python",
   "pygments_lexer": "ipython3",
   "version": "3.11.3"
  },
  "orig_nbformat": 4
 },
 "nbformat": 4,
 "nbformat_minor": 2
}
