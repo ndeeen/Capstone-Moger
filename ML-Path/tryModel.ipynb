{
 "cells": [
  {
   "cell_type": "code",
   "execution_count": 22,
   "metadata": {},
   "outputs": [],
   "source": [
    "import tensorflow as tf\n",
    "from tensorflow import keras\n",
    "from keras import layers\n",
    "import cv2\n",
    "import os\n",
    "import numpy as np\n",
    "import pytesseract\n",
    "import re"
   ]
  },
  {
   "attachments": {},
   "cell_type": "markdown",
   "metadata": {},
   "source": [
    "Preprocess Image"
   ]
  },
  {
   "cell_type": "code",
   "execution_count": 16,
   "metadata": {},
   "outputs": [],
   "source": [
    "def noiseRemoval(image):\n",
    "    kernel = np.ones((1, 1), np.uint8)\n",
    "    image = cv2.dilate(image, kernel, iterations=1)\n",
    "    kernel = np.ones((1, 1), np.uint8)\n",
    "    image = cv2.erode(image, kernel, iterations=1)\n",
    "    image = cv2.morphologyEx(image, cv2.MORPH_OPEN, kernel)\n",
    "    image = cv2.medianBlur(image, 3)\n",
    "    return image"
   ]
  },
  {
   "cell_type": "code",
   "execution_count": 17,
   "metadata": {},
   "outputs": [],
   "source": [
    "# Specify the desired image dimensions\n",
    "image_height = 500\n",
    "image_width = 500\n",
    "\n",
    "# Path to the dataset directory containing receipt images\n",
    "dataset_path = \"Data\"\n",
    "\n",
    "# Path to store preprocessed images\n",
    "processed_path = \"Temp\"\n",
    "\n",
    "# Ensure the preprocessed directory exists\n",
    "os.makedirs(processed_path, exist_ok=True)\n",
    "\n",
    "# Preprocess the dataset\n",
    "# Loop through each image in the dataset\n",
    "for filename in os.listdir(dataset_path):\n",
    "    # Load the image\n",
    "    image_path = os.path.join(dataset_path, filename)\n",
    "    image = cv2.imread(image_path)\n",
    "    \n",
    "    # Invert the image\n",
    "    inverted_image = cv2.bitwise_not(image)\n",
    "    \n",
    "    # Rescale the image (optional)\n",
    "    rescaled_image = cv2.resize(inverted_image, None, fx=2, fy=2, interpolation=cv2.INTER_CUBIC)\n",
    "    \n",
    "    # Convert to grayscale\n",
    "    grayscale_image = cv2.cvtColor(rescaled_image, cv2.COLOR_BGR2GRAY)\n",
    "    \n",
    "    # Binarization\n",
    "    thresholdImage, binary_image = cv2.threshold(grayscale_image, 127, 255, cv2.THRESH_BINARY)\n",
    "    \n",
    "    # Noise removal (optional)\n",
    "    denoised_image = noiseRemoval(binary_image)\n",
    "    \n",
    "    # Save the preprocessed image\n",
    "    preprocessed_image_path = os.path.join(processed_path, filename)\n",
    "    cv2.imwrite(preprocessed_image_path, denoised_image)"
   ]
  },
  {
   "cell_type": "code",
   "execution_count": null,
   "metadata": {},
   "outputs": [],
   "source": [
    "# Perform text detection using Tesseract at multiple scales\n",
    "scales = [1.0, 0.8, 0.6]  # Adjust the scales as per your requirement\n",
    "for scale in scales:\n",
    "    scaled_image = cv2.resize(denoised_image, None, fx=scale, fy=scale)\n",
    "    \n",
    "    # Perform text detection on the scaled image\n",
    "    text_boxes = pytesseract.image_to_boxes(scaled_image, config='--psm 6')\n",
    "    \n",
    "    # Iterate over the detected text boxes\n",
    "    for box in text_boxes.splitlines():\n",
    "        # Extract coordinates and text information\n",
    "        x, y, w, h, text = box.split(' ')[1:]\n",
    "        x, y, w, h = int(x), int(y), int(w), int(h)\n",
    "        \n",
    "        # Rescale the bounding box coordinates to the original image scale\n",
    "        x, y, w, h = int(x / scale), int(y / scale), int(w / scale), int(h / scale)\n",
    "        \n",
    "        # Draw bounding box around the text on the original image\n",
    "        cv2.rectangle(image, (x, y), (w, h), (0, 255, 0), 2)\n",
    "        \n",
    "        # Display the text\n",
    "        cv2.putText(image, text, (x, y), cv2.FONT_HERSHEY_SIMPLEX, 0.8, (0, 0, 255), 2)\n",
    "\n",
    "    # Display the image with text boxes\n",
    "    cv2.imshow(\"Text Detection\", image)\n",
    "    cv2.waitKey(0)\n",
    "    cv2.destroyAllWindows()\n",
    "\n",
    "    # Perform text recognition using Tesseract on the original image\n",
    "    recognized_text = pytesseract.image_to_string(image, config='--psm 6')\n",
    "    \n",
    "    # Print the recognized text\n",
    "    print(\"Recognized Text:\")\n",
    "    print(recognized_text)\n",
    "    print(\"-----------------------\")\n",
    "\n",
    "    # Get the first text element as merchant name\n",
    "    first_text_box = text_boxes.splitlines()[0]\n",
    "    x, y, w, h, text = first_text_box.split(' ')[1:]\n",
    "    x, y, w, h = int(x), int(y), int(w), int(h)\n",
    "    merchant_name = text\n",
    "\n",
    "    # Draw bounding box around the merchant name\n",
    "    cv2.rectangle(image, (x, y), (w, h), (0, 255, 0), 2)\n",
    "\n",
    "    # Display the merchant name\n",
    "    cv2.putText(image, merchant_name, (x, y), cv2.FONT_HERSHEY_SIMPLEX, 0.8, (0, 0, 255), 2)\n",
    "\n",
    "    # Print the detected merchant name\n",
    "    print(\"Merchant Name:\", merchant_name)\n",
    "    print(\"-----------------------\")"
   ]
  },
  {
   "cell_type": "code",
   "execution_count": 27,
   "metadata": {},
   "outputs": [],
   "source": [
    "pytesseract.pytesseract.tesseract_cmd = 'C:/Program Files/Tesseract-OCR/tesseract.exe'"
   ]
  }
 ],
 "metadata": {
  "kernelspec": {
   "display_name": "Python 3",
   "language": "python",
   "name": "python3"
  },
  "language_info": {
   "codemirror_mode": {
    "name": "ipython",
    "version": 3
   },
   "file_extension": ".py",
   "mimetype": "text/x-python",
   "name": "python",
   "nbconvert_exporter": "python",
   "pygments_lexer": "ipython3",
   "version": "3.11.3"
  },
  "orig_nbformat": 4
 },
 "nbformat": 4,
 "nbformat_minor": 2
}
